{
 "cells": [
  {
   "cell_type": "code",
   "execution_count": 2,
   "id": "5ea58622",
   "metadata": {},
   "outputs": [],
   "source": [
    "import torch\n",
    "import torch.nn as nn\n",
    "import numpy as np"
   ]
  },
  {
   "cell_type": "code",
   "execution_count": 2,
   "id": "1d32dc82",
   "metadata": {},
   "outputs": [
    {
     "data": {
      "text/plain": [
       "tensor([[0., 0.]])"
      ]
     },
     "execution_count": 2,
     "metadata": {},
     "output_type": "execute_result"
    }
   ],
   "source": [
    "torch.zeros(1, 2)"
   ]
  },
  {
   "cell_type": "code",
   "execution_count": null,
   "id": "eb5c2165",
   "metadata": {},
   "outputs": [],
   "source": [
    "torch.rand(2, 3)"
   ]
  },
  {
   "cell_type": "code",
   "execution_count": 23,
   "id": "8f03ac46",
   "metadata": {},
   "outputs": [],
   "source": [
    "x = np.array([1, 2, 3, 4], dtype=np.float32)\n",
    "y = np.array([2, 4, 6, 8], dtype=np.float32)"
   ]
  },
  {
   "cell_type": "code",
   "execution_count": 24,
   "id": "03c30e80",
   "metadata": {},
   "outputs": [
    {
     "data": {
      "text/plain": [
       "(array([1., 2., 3., 4.], dtype=float32),\n",
       " array([2., 4., 6., 8.], dtype=float32))"
      ]
     },
     "execution_count": 24,
     "metadata": {},
     "output_type": "execute_result"
    }
   ],
   "source": [
    "x, y"
   ]
  },
  {
   "cell_type": "code",
   "execution_count": 25,
   "id": "df127e63",
   "metadata": {},
   "outputs": [],
   "source": [
    "w = 1.1\n",
    "b = 1\n",
    "lr = 0.001\n",
    "alpha = 0.0001"
   ]
  },
  {
   "cell_type": "code",
   "execution_count": 26,
   "id": "59b3a0c9",
   "metadata": {},
   "outputs": [],
   "source": [
    "def forward(x):\n",
    "    return (x*w)"
   ]
  },
  {
   "cell_type": "code",
   "execution_count": 27,
   "id": "fc70d82d",
   "metadata": {},
   "outputs": [],
   "source": [
    "def loss(y_pred, y_real):\n",
    "    return ((y_pred - y_real)**2).mean()"
   ]
  },
  {
   "cell_type": "code",
   "execution_count": 28,
   "id": "c1be969d",
   "metadata": {},
   "outputs": [],
   "source": [
    "def gradient(x, y_pred, y):\n",
    "    return np.mean(2*x*y_pred - y)\n",
    "#     return np.diff(dinputs)"
   ]
  },
  {
   "cell_type": "code",
   "execution_count": 29,
   "id": "16584948",
   "metadata": {},
   "outputs": [],
   "source": [
    "def update_weights(w, grad, lr=0.0001):\n",
    "    return w-lr*grad"
   ]
  },
  {
   "cell_type": "code",
   "execution_count": 30,
   "id": "1a3a5fae",
   "metadata": {},
   "outputs": [],
   "source": [
    "def update_lr(lr, alpha):\n",
    "    return lr-alpha"
   ]
  },
  {
   "cell_type": "code",
   "execution_count": 40,
   "id": "c2e34e55",
   "metadata": {},
   "outputs": [],
   "source": [
    "def train(x, y, w, lr, epochs=10):\n",
    "    weight = w\n",
    "    learning_rate = lr\n",
    "    for i in range(epochs):\n",
    "        y_hat = forward(x)\n",
    "        final_loss = loss(y_hat, y)\n",
    "        grad = gradient(x, y_hat, y)\n",
    "        w = update_weights(weight, grad, learning_rate)\n",
    "        learning_rate = update_lr(learning_rate, alpha)\n",
    "    return weight, lr"
   ]
  },
  {
   "cell_type": "code",
   "execution_count": 41,
   "id": "103d76bf",
   "metadata": {},
   "outputs": [
    {
     "data": {
      "text/plain": [
       "10.5512495"
      ]
     },
     "execution_count": 41,
     "metadata": {},
     "output_type": "execute_result"
    }
   ],
   "source": [
    "y_pred = forward(x)\n",
    "\n",
    "gradient(x, y_pred, y)"
   ]
  },
  {
   "cell_type": "code",
   "execution_count": 42,
   "id": "1be684ae",
   "metadata": {},
   "outputs": [],
   "source": [
    "w, lr = train(x, y, w, lr)"
   ]
  },
  {
   "cell_type": "code",
   "execution_count": 43,
   "id": "af9dec12",
   "metadata": {},
   "outputs": [
    {
     "data": {
      "text/plain": [
       "array([1.03675, 2.0735 , 3.11025, 4.147  ], dtype=float32)"
      ]
     },
     "execution_count": 43,
     "metadata": {},
     "output_type": "execute_result"
    }
   ],
   "source": [
    "forward(x)"
   ]
  },
  {
   "cell_type": "code",
   "execution_count": 72,
   "id": "e5049d9e",
   "metadata": {},
   "outputs": [],
   "source": [
    "import torch\n",
    "\n",
    "x = torch.randn(3, requires_grad=True)"
   ]
  },
  {
   "cell_type": "code",
   "execution_count": 73,
   "id": "17010218",
   "metadata": {},
   "outputs": [
    {
     "data": {
      "text/plain": [
       "tensor([ 0.7873,  0.3611, -0.4414], requires_grad=True)"
      ]
     },
     "execution_count": 73,
     "metadata": {},
     "output_type": "execute_result"
    }
   ],
   "source": [
    "x"
   ]
  },
  {
   "cell_type": "code",
   "execution_count": 74,
   "id": "9f12a63c",
   "metadata": {},
   "outputs": [],
   "source": [
    "y = x + 2"
   ]
  },
  {
   "cell_type": "code",
   "execution_count": 75,
   "id": "f02d0502",
   "metadata": {},
   "outputs": [
    {
     "data": {
      "text/plain": [
       "tensor([2.7873, 2.3611, 1.5586], grad_fn=<AddBackward0>)"
      ]
     },
     "execution_count": 75,
     "metadata": {},
     "output_type": "execute_result"
    }
   ],
   "source": [
    "y"
   ]
  },
  {
   "cell_type": "code",
   "execution_count": 76,
   "id": "5ee75a57",
   "metadata": {},
   "outputs": [
    {
     "data": {
      "text/plain": [
       "(tensor([2.7873, 2.3611, 1.5586], grad_fn=<AddBackward0>), None)"
      ]
     },
     "execution_count": 76,
     "metadata": {},
     "output_type": "execute_result"
    }
   ],
   "source": [
    "y.grad_fn(y)"
   ]
  },
  {
   "cell_type": "code",
   "execution_count": 77,
   "id": "a5c0e8bb",
   "metadata": {},
   "outputs": [],
   "source": [
    "y.backward(x)"
   ]
  },
  {
   "cell_type": "code",
   "execution_count": 78,
   "id": "58daec89",
   "metadata": {},
   "outputs": [
    {
     "data": {
      "text/plain": [
       "tensor([2.7873, 2.3611, 1.5586], grad_fn=<AddBackward0>)"
      ]
     },
     "execution_count": 78,
     "metadata": {},
     "output_type": "execute_result"
    }
   ],
   "source": [
    "y"
   ]
  },
  {
   "cell_type": "code",
   "execution_count": 87,
   "id": "21a8cfbf",
   "metadata": {},
   "outputs": [],
   "source": [
    "x = torch.tensor([1, 2, 3, 4], dtype=torch.float32)\n",
    "y = torch.tensor([2, 4, 6, 8], dtype=torch.float32)"
   ]
  },
  {
   "cell_type": "code",
   "execution_count": 88,
   "id": "8ea232ca",
   "metadata": {},
   "outputs": [],
   "source": [
    "w = torch.tensor(0.0, dtype=torch.float32, requires_grad=True)\n",
    "learning_rate = 0.01\n",
    "n_iters = 100"
   ]
  },
  {
   "cell_type": "code",
   "execution_count": 69,
   "id": "403177ec",
   "metadata": {},
   "outputs": [
    {
     "name": "stdout",
     "output_type": "stream",
     "text": [
      "epoch 1: w=0.29999998211860657\n",
      "epoch 11: w=1.6653136014938354\n",
      "epoch 21: w=1.934108853340149\n",
      "epoch 31: w=1.987027645111084\n",
      "epoch 41: w=1.9974461793899536\n",
      "epoch 51: w=1.9994971752166748\n",
      "epoch 61: w=1.9999010562896729\n",
      "epoch 71: w=1.9999804496765137\n",
      "epoch 81: w=1.999996304512024\n",
      "epoch 91: w=1.9999992847442627\n"
     ]
    }
   ],
   "source": [
    "for epoch in range(n_iters):\n",
    "    y_pred = forward(x)\n",
    "    \n",
    "    l = loss(y, y_pred)\n",
    "    \n",
    "    l.backward()\n",
    "    \n",
    "    with torch.no_grad():\n",
    "        w -= learning_rate*w.grad\n",
    "    \n",
    "    w.grad.zero_()\n",
    "    \n",
    "    if epoch % 10 == 0:\n",
    "        print(f'epoch {epoch+1}: w={w}')"
   ]
  },
  {
   "cell_type": "code",
   "execution_count": 89,
   "id": "00dfcff5",
   "metadata": {},
   "outputs": [],
   "source": [
    "loss = nn.MSELoss()\n",
    "optimizer = torch.optim.SGD([w], lr=learning_rate)"
   ]
  },
  {
   "cell_type": "code",
   "execution_count": 90,
   "id": "1c3e0369",
   "metadata": {},
   "outputs": [
    {
     "name": "stdout",
     "output_type": "stream",
     "text": [
      "epoch 1: w=0.29999998211860657\n",
      "epoch 11: w=1.6653136014938354\n",
      "epoch 21: w=1.934108853340149\n",
      "epoch 31: w=1.987027645111084\n",
      "epoch 41: w=1.9974461793899536\n",
      "epoch 51: w=1.9994971752166748\n",
      "epoch 61: w=1.9999010562896729\n",
      "epoch 71: w=1.9999804496765137\n",
      "epoch 81: w=1.999996304512024\n",
      "epoch 91: w=1.9999992847442627\n"
     ]
    }
   ],
   "source": [
    "for epoch in range(n_iters):\n",
    "    y_pred = forward(x)\n",
    "    \n",
    "    l = loss(y, y_pred)\n",
    "    \n",
    "    l.backward()\n",
    "    \n",
    "    optimizer.step()\n",
    "    \n",
    "    optimizer.zero_grad()\n",
    "\n",
    "    if epoch % 10 == 0:\n",
    "        print(f'epoch {epoch+1}: w={w}')"
   ]
  },
  {
   "cell_type": "code",
   "execution_count": null,
   "id": "d7346481",
   "metadata": {},
   "outputs": [],
   "source": []
  },
  {
   "cell_type": "code",
   "execution_count": 9,
   "id": "f642888d",
   "metadata": {},
   "outputs": [],
   "source": [
    "X = torch.tensor([[1], [2], [3], [4]], dtype=torch.float32)\n",
    "Y = torch.tensor([[2], [4], [6], [8]], dtype=torch.float32)\n",
    "\n",
    "n_samples, n_features = X.shape\n",
    "\n",
    "X_test = torch.tensor([5], dtype=torch.float32)\n",
    "input_size = n_features\n",
    "output_size = n_features"
   ]
  },
  {
   "cell_type": "code",
   "execution_count": 10,
   "id": "a278a998",
   "metadata": {},
   "outputs": [],
   "source": [
    "model = nn.Linear(input_size, output_size)"
   ]
  },
  {
   "cell_type": "code",
   "execution_count": 11,
   "id": "9d60cfa5",
   "metadata": {},
   "outputs": [
    {
     "name": "stdout",
     "output_type": "stream",
     "text": [
      "Epoch 1: w=2.073657751083374, loss=4.4922919273376465\n",
      "Epoch 11: w=1.727867841720581, loss=0.12205475568771362\n",
      "Epoch 21: w=1.7932403087615967, loss=0.06568250805139542\n",
      "Epoch 31: w=1.8473259210586548, loss=0.03576245531439781\n",
      "Epoch 41: w=1.8873416185379028, loss=0.019471921026706696\n",
      "Epoch 51: w=1.9168707132339478, loss=0.010602024383842945\n",
      "Epoch 61: w=1.938659906387329, loss=0.005772573873400688\n",
      "Epoch 71: w=1.954737901687622, loss=0.0031430423259735107\n",
      "Epoch 81: w=1.9666017293930054, loss=0.0017113133799284697\n",
      "Epoch 91: w=1.975355863571167, loss=0.0009317751391790807\n"
     ]
    }
   ],
   "source": [
    "learning_rate = 0.1\n",
    "n_iters = 100\n",
    "\n",
    "loss = nn.MSELoss()\n",
    "optimizers = torch.optim.SGD(model.parameters(), lr=learning_rate)\n",
    "\n",
    "for epoch in range(n_iters):\n",
    "    y_pred = model(X)\n",
    "    \n",
    "    l = loss(Y, y_pred)\n",
    "    \n",
    "    l.backward()\n",
    "    \n",
    "    optimizers.step()\n",
    "    \n",
    "    optimizers.zero_grad()\n",
    "    \n",
    "    if epoch % 10 == 0:\n",
    "        [w, b] = model.parameters()\n",
    "        print(f\"Epoch {epoch+1}: w={w[0][0].item()}, loss={l}\")"
   ]
  },
  {
   "cell_type": "code",
   "execution_count": 12,
   "id": "57a7de0f",
   "metadata": {},
   "outputs": [
    {
     "name": "stdout",
     "output_type": "stream",
     "text": [
      "Defaulting to user installation because normal site-packages is not writeable\n",
      "Collecting open-nn-python\n",
      "  Downloading open_nn_python-0.3.1-py3-none-any.whl (8.4 kB)\n",
      "Installing collected packages: open-nn-python\n",
      "Successfully installed open-nn-python-0.3.1\n"
     ]
    }
   ],
   "source": [
    "!pip install open-nn-python"
   ]
  },
  {
   "cell_type": "code",
   "execution_count": 21,
   "id": "b2fd2cb0",
   "metadata": {},
   "outputs": [],
   "source": [
    "import nn"
   ]
  },
  {
   "cell_type": "code",
   "execution_count": 22,
   "id": "c74ef385",
   "metadata": {},
   "outputs": [],
   "source": [
    "model = nn.models.Sequential()"
   ]
  },
  {
   "cell_type": "code",
   "execution_count": 23,
   "id": "7fa09fdc",
   "metadata": {},
   "outputs": [
    {
     "data": {
      "text/plain": [
       "3"
      ]
     },
     "execution_count": 23,
     "metadata": {},
     "output_type": "execute_result"
    }
   ],
   "source": [
    "model.add(nn.layers.Layer_Dense(4, 128, activation=nn.activations.ReLU()))"
   ]
  },
  {
   "cell_type": "code",
   "execution_count": 24,
   "id": "b19d85b5",
   "metadata": {},
   "outputs": [
    {
     "data": {
      "text/plain": [
       "4"
      ]
     },
     "execution_count": 24,
     "metadata": {},
     "output_type": "execute_result"
    }
   ],
   "source": [
    "model.add(nn.layers.Layer_Dense(128, 4, activation=nn.activations.ReLU()))"
   ]
  },
  {
   "cell_type": "code",
   "execution_count": 25,
   "id": "e76c9ff8",
   "metadata": {},
   "outputs": [
    {
     "ename": "ValueError",
     "evalue": "shapes (4,1) and (128,128) not aligned: 1 (dim 1) != 128 (dim 0)",
     "output_type": "error",
     "traceback": [
      "\u001b[0;31m---------------------------------------------------------------------------\u001b[0m",
      "\u001b[0;31mValueError\u001b[0m                                Traceback (most recent call last)",
      "Cell \u001b[0;32mIn[25], line 1\u001b[0m\n\u001b[0;32m----> 1\u001b[0m \u001b[43mmodel\u001b[49m\u001b[38;5;241;43m.\u001b[39;49m\u001b[43mfit\u001b[49m\u001b[43m(\u001b[49m\u001b[43mX\u001b[49m\u001b[43m,\u001b[49m\u001b[43m \u001b[49m\u001b[43mY\u001b[49m\u001b[43m,\u001b[49m\u001b[43m \u001b[49m\u001b[43mepoch\u001b[49m\u001b[38;5;241;43m=\u001b[39;49m\u001b[38;5;241;43m10\u001b[39;49m\u001b[43m)\u001b[49m\n",
      "File \u001b[0;32m~/.local/lib/python3.9/site-packages/nn/models.py:49\u001b[0m, in \u001b[0;36mSequential.fit\u001b[0;34m(self, X, y, epoch, optimizer, smooth_output, verbose, iteration, validation, callbacks)\u001b[0m\n\u001b[1;32m     47\u001b[0m \u001b[38;5;28;01mfor\u001b[39;00m count, layer \u001b[38;5;129;01min\u001b[39;00m \u001b[38;5;28menumerate\u001b[39m(\u001b[38;5;28mself\u001b[39m\u001b[38;5;241m.\u001b[39mlayers):\n\u001b[1;32m     48\u001b[0m     \u001b[38;5;28;01mif\u001b[39;00m count \u001b[38;5;241m==\u001b[39m \u001b[38;5;241m0\u001b[39m:\n\u001b[0;32m---> 49\u001b[0m         \u001b[43mlayer\u001b[49m\u001b[38;5;241;43m.\u001b[39;49m\u001b[43mforward\u001b[49m\u001b[43m(\u001b[49m\u001b[43mX\u001b[49m\u001b[43m)\u001b[49m\n\u001b[1;32m     50\u001b[0m         layer\u001b[38;5;241m.\u001b[39mactivation\u001b[38;5;241m.\u001b[39mforward(layer\u001b[38;5;241m.\u001b[39moutput)\n\u001b[1;32m     51\u001b[0m         \u001b[38;5;28mself\u001b[39m\u001b[38;5;241m.\u001b[39m__output \u001b[38;5;241m=\u001b[39m layer\u001b[38;5;241m.\u001b[39mactivation\u001b[38;5;241m.\u001b[39moutput\n",
      "File \u001b[0;32m~/.local/lib/python3.9/site-packages/nn/layers.py:35\u001b[0m, in \u001b[0;36mLayer_Dense.forward\u001b[0;34m(self, inputs)\u001b[0m\n\u001b[1;32m     33\u001b[0m \u001b[38;5;28;01mdef\u001b[39;00m \u001b[38;5;21mforward\u001b[39m(\u001b[38;5;28mself\u001b[39m, inputs):\n\u001b[1;32m     34\u001b[0m     \u001b[38;5;28mself\u001b[39m\u001b[38;5;241m.\u001b[39minputs \u001b[38;5;241m=\u001b[39m inputs\n\u001b[0;32m---> 35\u001b[0m     \u001b[38;5;28mself\u001b[39m\u001b[38;5;241m.\u001b[39moutput \u001b[38;5;241m=\u001b[39m \u001b[43mnp\u001b[49m\u001b[38;5;241;43m.\u001b[39;49m\u001b[43mdot\u001b[49m\u001b[43m(\u001b[49m\u001b[43minputs\u001b[49m\u001b[43m,\u001b[49m\u001b[43m \u001b[49m\u001b[38;5;28;43mself\u001b[39;49m\u001b[38;5;241;43m.\u001b[39;49m\u001b[43mweights\u001b[49m\u001b[43m)\u001b[49m \u001b[38;5;241m+\u001b[39m \u001b[38;5;28mself\u001b[39m\u001b[38;5;241m.\u001b[39mbiases\n",
      "File \u001b[0;32m<__array_function__ internals>:180\u001b[0m, in \u001b[0;36mdot\u001b[0;34m(*args, **kwargs)\u001b[0m\n",
      "\u001b[0;31mValueError\u001b[0m: shapes (4,1) and (128,128) not aligned: 1 (dim 1) != 128 (dim 0)"
     ]
    }
   ],
   "source": [
    "model.fit(X, Y, epoch=10)"
   ]
  },
  {
   "cell_type": "code",
   "execution_count": null,
   "id": "8a5ff6ae",
   "metadata": {},
   "outputs": [],
   "source": []
  }
 ],
 "metadata": {
  "kernelspec": {
   "display_name": "Python 3 (ipykernel)",
   "language": "python",
   "name": "python3"
  },
  "language_info": {
   "codemirror_mode": {
    "name": "ipython",
    "version": 3
   },
   "file_extension": ".py",
   "mimetype": "text/x-python",
   "name": "python",
   "nbconvert_exporter": "python",
   "pygments_lexer": "ipython3",
   "version": "3.9.16"
  }
 },
 "nbformat": 4,
 "nbformat_minor": 5
}
